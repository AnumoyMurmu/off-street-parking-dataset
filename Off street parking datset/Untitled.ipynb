{
 "cells": [
  {
   "cell_type": "code",
   "execution_count": 1,
   "id": "b489f5df-e0e4-462e-b620-6f69ae62fe1e",
   "metadata": {},
   "outputs": [],
   "source": [
    "import pandas as pd\n",
    "from sklearn.model_selection import train_test_split\n",
    "from sklearn.preprocessing import LabelEncoder, MinMaxScaler\n",
    "from sklearn.linear_model import LogisticRegression\n",
    "from sklearn.metrics import accuracy_score, confusion_matrix\n",
    "import seaborn as sns\n",
    "import matplotlib.pyplot as plt\n"
   ]
  },
  {
   "cell_type": "code",
   "execution_count": 3,
   "id": "c9f3d877-e84f-46bd-8167-87191aedf50a",
   "metadata": {},
   "outputs": [
    {
     "name": "stdout",
     "output_type": "stream",
     "text": [
      "               X             Y                      Name     Location  \\\n",
      "0 -709048.383413  7.409270e+06          Harbour Car Park    Ballintoy   \n",
      "1 -704507.550064  7.407429e+06       Portaneevy Car Park    Ballintoy   \n",
      "2 -695799.137619  7.400722e+06  Fairhill Street Car Park  Ballycastle   \n",
      "3 -696185.416252  7.400955e+06    Castle Street Car Park  Ballycastle   \n",
      "4 -695564.364813  7.401064e+06       Ann Street Car Park  Ballycastle   \n",
      "\n",
      "  Ownership        Type  Spaces Pay_Display         X_Co         Y_Co  \\\n",
      "0   Council        Free    46.0         NaN  303755.6580  445301.3947   \n",
      "1   Council        Free    49.0         NaN  306381.9233  444253.6112   \n",
      "2   Council        Free    58.0         NaN  311448.9311  440575.7168   \n",
      "3   Council        Free    64.0         NaN  311240.7069  440705.4064   \n",
      "4   Council  Chargeable    97.0      30p/hr  311569.1322  440771.3176   \n",
      "\n",
      "    Latitude  Longitude  ObjectId  \n",
      "0  55.243507  -6.369490         1  \n",
      "1  55.234080  -6.328699         2  \n",
      "2  55.199707  -6.250470         3  \n",
      "3  55.200901  -6.253940         4  \n",
      "4  55.201459  -6.248361         5  \n"
     ]
    }
   ],
   "source": [
    "# Load the dataset\n",
    "data = pd.read_csv('CCGBC_Off_Street_Car_Parking.csv')\n",
    "\n",
    "# Inspect the first few rows of the data\n",
    "print(data.head())\n"
   ]
  },
  {
   "cell_type": "code",
   "execution_count": 4,
   "id": "aa6ba17c-9932-4c90-8425-f503a7bc2aff",
   "metadata": {},
   "outputs": [],
   "source": [
    "# Drop rows with missing values (optional)\n",
    "data = data.dropna()\n",
    "\n",
    "# Alternatively, fill missing values (example with median or mode)\n",
    "# data['column_name'] = data['column_name'].fillna(data['column_name'].median())\n"
   ]
  },
  {
   "cell_type": "code",
   "execution_count": 8,
   "id": "8390b597-71f1-46c5-9de8-efcd0f055ec7",
   "metadata": {},
   "outputs": [],
   "source": [
    "# Drop rows with missing values (if you want to remove them)\n",
    "data = data.dropna()\n",
    "\n",
    "# Or, fill missing values (for example, with the mode for categorical and mean for numerical)\n",
    "data['Name'] = data['Name'].fillna(data['Name'].mode()[0])\n",
    "data['Latitude'] = data['Latitude'].fillna(data['Latitude'].mean())\n"
   ]
  },
  {
   "cell_type": "code",
   "execution_count": 10,
   "id": "16d1cf28-7889-4aa9-a635-e94be667bd0e",
   "metadata": {},
   "outputs": [
    {
     "name": "stdout",
     "output_type": "stream",
     "text": [
      "                X             Y                              Name  \\\n",
      "4  -695564.364813  7.401064e+06               Ann Street Car Park   \n",
      "13 -725314.276088  7.375496e+06            Church Street Car Park   \n",
      "14 -725718.254520  7.375760e+06  Townhead Street Car Park (North)   \n",
      "15 -725723.597856  7.375597e+06  Townhead Street Car Park (South)   \n",
      "24 -742569.576397  7.387623e+06                 The Mall Car Park   \n",
      "\n",
      "       Location Ownership        Type  Spaces   Pay_Display         X_Co  \\\n",
      "4   Ballycastle   Council  Chargeable    97.0        30p/hr  311569.1322   \n",
      "13   Ballymoney   Council  Chargeable    96.0        50p/hr  294877.2981   \n",
      "14   Ballymoney   Council  Chargeable   156.0  30p per hour  294645.2897   \n",
      "15   Ballymoney   Council  Chargeable    64.0  30p per hour  294644.7298   \n",
      "24    Coleraine   Council  Chargeable   219.0        60p/hr  284840.9702   \n",
      "\n",
      "           Y_Co   Latitude  Longitude  ObjectId  \n",
      "4   440771.3176  55.201459  -6.248361         5  \n",
      "13  425757.2620  55.070169  -6.515609        14  \n",
      "14  425901.6933  55.071525  -6.519238        15  \n",
      "15  425841.5765  55.070687  -6.519286        16  \n",
      "24  432511.8967  55.132492  -6.670616        25  \n"
     ]
    }
   ],
   "source": [
    "print(data.head())"
   ]
  },
  {
   "cell_type": "code",
   "execution_count": 11,
   "id": "6c03b0b8-328c-4b63-b74a-dd86315e7064",
   "metadata": {},
   "outputs": [
    {
     "name": "stdout",
     "output_type": "stream",
     "text": [
      "    Ownership  Pay_Display\n",
      "4           0            1\n",
      "13          0            3\n",
      "14          0            0\n",
      "15          0            0\n",
      "24          0            4\n"
     ]
    }
   ],
   "source": [
    "from sklearn.preprocessing import LabelEncoder\n",
    "\n",
    "# Initialize the LabelEncoder\n",
    "le = LabelEncoder()\n",
    "\n",
    "# Label encode binary columns like 'ownership' and 'space_pay_display'\n",
    "data['Ownership'] = le.fit_transform(data['Ownership'])\n",
    "data['Pay_Display'] = le.fit_transform(data['Pay_Display'])\n",
    "\n",
    "# Check the data after encoding\n",
    "print(data[['Ownership', 'Pay_Display']].head())\n"
   ]
  },
  {
   "cell_type": "code",
   "execution_count": 14,
   "id": "6e9899e9-d0d1-4b94-bdec-872af87ac77d",
   "metadata": {},
   "outputs": [
    {
     "name": "stdout",
     "output_type": "stream",
     "text": [
      "float64\n"
     ]
    }
   ],
   "source": [
    "# Check the data type of the 'space' column\n",
    "print(data['Spaces'].dtype)\n"
   ]
  },
  {
   "cell_type": "code",
   "execution_count": 15,
   "id": "d766b0e3-3634-48d3-8f29-90a434937b5f",
   "metadata": {},
   "outputs": [
    {
     "name": "stdout",
     "output_type": "stream",
     "text": [
      "4     0.121756\n",
      "13    0.119760\n",
      "14    0.239521\n",
      "15    0.055888\n",
      "24    0.365269\n",
      "Name: Spaces, dtype: float64\n"
     ]
    }
   ],
   "source": [
    "# If 'space' is numerical, you can normalize it\n",
    "scaler = MinMaxScaler()\n",
    "data[['Spaces']] = scaler.fit_transform(data[['Spaces']])\n",
    "\n",
    "# Check the updated 'space' column\n",
    "print(data['Spaces'].head())\n"
   ]
  },
  {
   "cell_type": "code",
   "execution_count": 16,
   "id": "9cbf49aa-ce20-49a6-b722-34150e292794",
   "metadata": {},
   "outputs": [
    {
     "name": "stdout",
     "output_type": "stream",
     "text": [
      "                X             Y  Ownership    Spaces  Pay_Display  \\\n",
      "4  -695564.364813  7.401064e+06          0  0.121756            1   \n",
      "13 -725314.276088  7.375496e+06          0  0.119760            3   \n",
      "14 -725718.254520  7.375760e+06          0  0.239521            0   \n",
      "15 -725723.597856  7.375597e+06          0  0.055888            0   \n",
      "24 -742569.576397  7.387623e+06          0  0.365269            4   \n",
      "\n",
      "           X_Co         Y_Co   Latitude  Longitude  ObjectId  ...  \\\n",
      "4   311569.1322  440771.3176  55.201459  -6.248361         5  ...   \n",
      "13  294877.2981  425757.2620  55.070169  -6.515609        14  ...   \n",
      "14  294645.2897  425901.6933  55.071525  -6.519238        15  ...   \n",
      "15  294644.7298  425841.5765  55.070687  -6.519286        16  ...   \n",
      "24  284840.9702  432511.8967  55.132492  -6.670616        25  ...   \n",
      "\n",
      "    Name_Long Commons Car Park  Name_Railway Place Car Park  \\\n",
      "4                        False                        False   \n",
      "13                       False                        False   \n",
      "14                       False                        False   \n",
      "15                       False                        False   \n",
      "24                       False                        False   \n",
      "\n",
      "    Name_Railway Road Car Park  Name_The Mall Car Park  \\\n",
      "4                        False                   False   \n",
      "13                       False                   False   \n",
      "14                       False                   False   \n",
      "15                       False                   False   \n",
      "24                       False                    True   \n",
      "\n",
      "    Name_Townhead Street Car Park (North)  \\\n",
      "4                                   False   \n",
      "13                                  False   \n",
      "14                                   True   \n",
      "15                                  False   \n",
      "24                                  False   \n",
      "\n",
      "    Name_Townhead Street Car Park (South)  Location_Ballymoney  \\\n",
      "4                                   False                False   \n",
      "13                                  False                 True   \n",
      "14                                  False                 True   \n",
      "15                                   True                 True   \n",
      "24                                  False                False   \n",
      "\n",
      "    Location_Coleraine  Location_Limavady  Location_Portrush  \n",
      "4                False              False              False  \n",
      "13               False              False              False  \n",
      "14               False              False              False  \n",
      "15               False              False              False  \n",
      "24                True              False              False  \n",
      "\n",
      "[5 rows x 27 columns]\n"
     ]
    }
   ],
   "source": [
    "# Apply One-Hot Encoding for 'name', 'location', and 'type' columns\n",
    "data = pd.get_dummies(data, columns=['Name', 'Location', 'Type'], drop_first=True)\n",
    "\n",
    "# Check the updated data\n",
    "print(data.head())\n"
   ]
  },
  {
   "cell_type": "code",
   "execution_count": 18,
   "id": "94eb2517-300f-4598-8d3c-dea6fe7be56c",
   "metadata": {},
   "outputs": [
    {
     "name": "stdout",
     "output_type": "stream",
     "text": [
      "      Spaces  target\n",
      "4   0.121756       1\n",
      "13  0.119760       1\n",
      "14  0.239521       1\n",
      "15  0.055888       1\n",
      "24  0.365269       1\n"
     ]
    }
   ],
   "source": [
    "# Example: Assuming 'space' column represents available spaces\n",
    "# You can create a binary target variable 'target' where 1 indicates available and 0 indicates unavailable\n",
    "data['target'] = (data['Spaces'] > 0).astype(int)  # Example condition\n",
    "\n",
    "# Check the new target column\n",
    "print(data[['Spaces', 'target']].head())\n"
   ]
  },
  {
   "cell_type": "code",
   "execution_count": 19,
   "id": "52c0b0fc-3908-4960-8c33-080195dbd507",
   "metadata": {},
   "outputs": [],
   "source": [
    "# Features (X): all columns except 'target'\n",
    "# Target (y): 'target' column\n",
    "\n",
    "# Define the features and target\n",
    "X = data.drop('target', axis=1)  # All columns except 'target'\n",
    "y = data['target']  # 'target' column\n",
    "\n",
    "# Split the data into train and test sets\n",
    "from sklearn.model_selection import train_test_split\n",
    "X_train, X_test, y_train, y_test = train_test_split(X, y, test_size=0.2, random_state=42)\n"
   ]
  },
  {
   "cell_type": "code",
   "execution_count": 20,
   "id": "31e71d2d-1583-4a59-9789-c2c98da7533c",
   "metadata": {},
   "outputs": [],
   "source": [
    "# Scale features (e.g., 'X', 'Y', 'Ownership', 'Pay_Display', etc.)\n",
    "from sklearn.preprocessing import StandardScaler\n",
    "\n",
    "# Initialize the scaler\n",
    "scaler = StandardScaler()\n",
    "\n",
    "# Fit the scaler on the training data and transform both train and test data\n",
    "X_train_scaled = scaler.fit_transform(X_train)\n",
    "X_test_scaled = scaler.transform(X_test)\n"
   ]
  },
  {
   "cell_type": "code",
   "execution_count": 21,
   "id": "79cf7a1a-faf5-42da-af33-cb43896d1126",
   "metadata": {},
   "outputs": [
    {
     "name": "stdout",
     "output_type": "stream",
     "text": [
      "Accuracy: 1.0\n",
      "Precision: 1.0\n",
      "Recall: 1.0\n",
      "F1 Score: 1.0\n"
     ]
    }
   ],
   "source": [
    "from sklearn.ensemble import RandomForestClassifier\n",
    "\n",
    "# Initialize the model\n",
    "rf_clf = RandomForestClassifier(n_estimators=100, random_state=42)\n",
    "\n",
    "# Train the model\n",
    "rf_clf.fit(X_train_scaled, y_train)\n",
    "\n",
    "# Predict on the test set\n",
    "y_pred = rf_clf.predict(X_test_scaled)\n",
    "\n",
    "# Evaluate the model\n",
    "from sklearn.metrics import accuracy_score, confusion_matrix, precision_score, recall_score, f1_score\n",
    "\n",
    "# Accuracy\n",
    "print(f\"Accuracy: {accuracy_score(y_test, y_pred)}\")\n",
    "\n",
    "# Precision\n",
    "print(f\"Precision: {precision_score(y_test, y_pred)}\")\n",
    "\n",
    "# Recall\n",
    "print(f\"Recall: {recall_score(y_test, y_pred)}\")\n",
    "\n",
    "# F1 Score\n",
    "print(f\"F1 Score: {f1_score(y_test, y_pred)}\")\n"
   ]
  },
  {
   "cell_type": "code",
   "execution_count": 22,
   "id": "bf31f953-78c9-4087-b272-c39cdcf609b4",
   "metadata": {},
   "outputs": [
    {
     "name": "stdout",
     "output_type": "stream",
     "text": [
      "Fitting 5 folds for each of 81 candidates, totalling 405 fits\n"
     ]
    },
    {
     "name": "stderr",
     "output_type": "stream",
     "text": [
      "C:\\ProgramData\\anaconda3\\Lib\\site-packages\\sklearn\\model_selection\\_split.py:700: UserWarning: The least populated class in y has only 1 members, which is less than n_splits=5.\n",
      "  warnings.warn(\n"
     ]
    },
    {
     "name": "stdout",
     "output_type": "stream",
     "text": [
      "Best parameters:  {'max_depth': 10, 'min_samples_leaf': 1, 'min_samples_split': 2, 'n_estimators': 50}\n"
     ]
    }
   ],
   "source": [
    "from sklearn.model_selection import GridSearchCV\n",
    "\n",
    "# Define hyperparameters\n",
    "param_grid = {\n",
    "    'n_estimators': [50, 100, 200],\n",
    "    'max_depth': [10, 20, None],\n",
    "    'min_samples_split': [2, 5, 10],\n",
    "    'min_samples_leaf': [1, 2, 4]\n",
    "}\n",
    "\n",
    "# Initialize the model\n",
    "rf_clf = RandomForestClassifier(random_state=42)\n",
    "\n",
    "# Perform grid search\n",
    "grid_search = GridSearchCV(estimator=rf_clf, param_grid=param_grid, cv=5, n_jobs=-1, verbose=2)\n",
    "\n",
    "# Fit grid search\n",
    "grid_search.fit(X_train_scaled, y_train)\n",
    "\n",
    "# Get the best parameters\n",
    "print(\"Best parameters: \", grid_search.best_params_)\n"
   ]
  },
  {
   "cell_type": "code",
   "execution_count": 24,
   "id": "007448b5-14c0-4764-ba34-d7a65d8512d0",
   "metadata": {},
   "outputs": [
    {
     "data": {
      "text/html": [
       "<style>#sk-container-id-1 {color: black;background-color: white;}#sk-container-id-1 pre{padding: 0;}#sk-container-id-1 div.sk-toggleable {background-color: white;}#sk-container-id-1 label.sk-toggleable__label {cursor: pointer;display: block;width: 100%;margin-bottom: 0;padding: 0.3em;box-sizing: border-box;text-align: center;}#sk-container-id-1 label.sk-toggleable__label-arrow:before {content: \"▸\";float: left;margin-right: 0.25em;color: #696969;}#sk-container-id-1 label.sk-toggleable__label-arrow:hover:before {color: black;}#sk-container-id-1 div.sk-estimator:hover label.sk-toggleable__label-arrow:before {color: black;}#sk-container-id-1 div.sk-toggleable__content {max-height: 0;max-width: 0;overflow: hidden;text-align: left;background-color: #f0f8ff;}#sk-container-id-1 div.sk-toggleable__content pre {margin: 0.2em;color: black;border-radius: 0.25em;background-color: #f0f8ff;}#sk-container-id-1 input.sk-toggleable__control:checked~div.sk-toggleable__content {max-height: 200px;max-width: 100%;overflow: auto;}#sk-container-id-1 input.sk-toggleable__control:checked~label.sk-toggleable__label-arrow:before {content: \"▾\";}#sk-container-id-1 div.sk-estimator input.sk-toggleable__control:checked~label.sk-toggleable__label {background-color: #d4ebff;}#sk-container-id-1 div.sk-label input.sk-toggleable__control:checked~label.sk-toggleable__label {background-color: #d4ebff;}#sk-container-id-1 input.sk-hidden--visually {border: 0;clip: rect(1px 1px 1px 1px);clip: rect(1px, 1px, 1px, 1px);height: 1px;margin: -1px;overflow: hidden;padding: 0;position: absolute;width: 1px;}#sk-container-id-1 div.sk-estimator {font-family: monospace;background-color: #f0f8ff;border: 1px dotted black;border-radius: 0.25em;box-sizing: border-box;margin-bottom: 0.5em;}#sk-container-id-1 div.sk-estimator:hover {background-color: #d4ebff;}#sk-container-id-1 div.sk-parallel-item::after {content: \"\";width: 100%;border-bottom: 1px solid gray;flex-grow: 1;}#sk-container-id-1 div.sk-label:hover label.sk-toggleable__label {background-color: #d4ebff;}#sk-container-id-1 div.sk-serial::before {content: \"\";position: absolute;border-left: 1px solid gray;box-sizing: border-box;top: 0;bottom: 0;left: 50%;z-index: 0;}#sk-container-id-1 div.sk-serial {display: flex;flex-direction: column;align-items: center;background-color: white;padding-right: 0.2em;padding-left: 0.2em;position: relative;}#sk-container-id-1 div.sk-item {position: relative;z-index: 1;}#sk-container-id-1 div.sk-parallel {display: flex;align-items: stretch;justify-content: center;background-color: white;position: relative;}#sk-container-id-1 div.sk-item::before, #sk-container-id-1 div.sk-parallel-item::before {content: \"\";position: absolute;border-left: 1px solid gray;box-sizing: border-box;top: 0;bottom: 0;left: 50%;z-index: -1;}#sk-container-id-1 div.sk-parallel-item {display: flex;flex-direction: column;z-index: 1;position: relative;background-color: white;}#sk-container-id-1 div.sk-parallel-item:first-child::after {align-self: flex-end;width: 50%;}#sk-container-id-1 div.sk-parallel-item:last-child::after {align-self: flex-start;width: 50%;}#sk-container-id-1 div.sk-parallel-item:only-child::after {width: 0;}#sk-container-id-1 div.sk-dashed-wrapped {border: 1px dashed gray;margin: 0 0.4em 0.5em 0.4em;box-sizing: border-box;padding-bottom: 0.4em;background-color: white;}#sk-container-id-1 div.sk-label label {font-family: monospace;font-weight: bold;display: inline-block;line-height: 1.2em;}#sk-container-id-1 div.sk-label-container {text-align: center;}#sk-container-id-1 div.sk-container {/* jupyter's `normalize.less` sets `[hidden] { display: none; }` but bootstrap.min.css set `[hidden] { display: none !important; }` so we also need the `!important` here to be able to override the default hidden behavior on the sphinx rendered scikit-learn.org. See: https://github.com/scikit-learn/scikit-learn/issues/21755 */display: inline-block !important;position: relative;}#sk-container-id-1 div.sk-text-repr-fallback {display: none;}</style><div id=\"sk-container-id-1\" class=\"sk-top-container\"><div class=\"sk-text-repr-fallback\"><pre>RandomForestClassifier(random_state=42)</pre><b>In a Jupyter environment, please rerun this cell to show the HTML representation or trust the notebook. <br />On GitHub, the HTML representation is unable to render, please try loading this page with nbviewer.org.</b></div><div class=\"sk-container\" hidden><div class=\"sk-item\"><div class=\"sk-estimator sk-toggleable\"><input class=\"sk-toggleable__control sk-hidden--visually\" id=\"sk-estimator-id-1\" type=\"checkbox\" checked><label for=\"sk-estimator-id-1\" class=\"sk-toggleable__label sk-toggleable__label-arrow\">RandomForestClassifier</label><div class=\"sk-toggleable__content\"><pre>RandomForestClassifier(random_state=42)</pre></div></div></div></div></div>"
      ],
      "text/plain": [
       "RandomForestClassifier(random_state=42)"
      ]
     },
     "execution_count": 24,
     "metadata": {},
     "output_type": "execute_result"
    }
   ],
   "source": [
    "# Check if the model is fitted\n",
    "rf_clf.fit(X_train_scaled, y_train)  # Ensure this line runs before predictions\n"
   ]
  },
  {
   "cell_type": "code",
   "execution_count": 26,
   "id": "1eef4c8e-f371-4962-bda5-2e5d34cc78e6",
   "metadata": {},
   "outputs": [],
   "source": [
    "# Now that the model is trained, you can make predictions\n",
    "y_pred = rf_clf.predict(X_test_scaled)\n"
   ]
  },
  {
   "cell_type": "code",
   "execution_count": 27,
   "id": "dda9fc37-d31d-443e-ac8e-96215d1d25ce",
   "metadata": {},
   "outputs": [
    {
     "data": {
      "text/plain": [
       "<sklearn.metrics._plot.confusion_matrix.ConfusionMatrixDisplay at 0x23a75e8a8d0>"
      ]
     },
     "execution_count": 27,
     "metadata": {},
     "output_type": "execute_result"
    },
    {
     "data": {
      "image/png": "[encoded data removed]",
      "text/plain": [
       "<Figure size 640x480 with 2 Axes>"
      ]
     },
     "metadata": {},
     "output_type": "display_data"
    }
   ],
   "source": [
    "# Step 1: Fit the model with training data\n",
    "rf_clf.fit(X_train_scaled, y_train)  # Ensure you fit the model first\n",
    "\n",
    "# Step 2: Make predictions\n",
    "y_pred = rf_clf.predict(X_test_scaled)\n",
    "\n",
    "# Step 3: Evaluate performance\n",
    "from sklearn.metrics import confusion_matrix, ConfusionMatrixDisplay\n",
    "cm = confusion_matrix(y_test, y_pred)\n",
    "\n",
    "# Display confusion matrix\n",
    "disp = ConfusionMatrixDisplay(confusion_matrix=cm)\n",
    "disp.plot(cmap='Blues')\n"
   ]
  }
 ],
 "metadata": {
  "kernelspec": {
   "display_name": "Python 3 (ipykernel)",
   "language": "python",
   "name": "python3"
  },
  "language_info": {
   "codemirror_mode": {
    "name": "ipython",
    "version": 3
   },
   "file_extension": ".py",
   "mimetype": "text/x-python",
   "name": "python",
   "nbconvert_exporter": "python",
   "pygments_lexer": "ipython3",
   "version": "3.11.7"
  }
 },
 "nbformat": 4,
 "nbformat_minor": 5
}
